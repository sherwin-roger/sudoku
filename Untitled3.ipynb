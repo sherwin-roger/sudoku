{
 "cells": [
  {
   "cell_type": "code",
   "execution_count": 1,
   "metadata": {},
   "outputs": [],
   "source": [
    "%matplotlib inline\n",
    "import matplotlib.pyplot as plt\n",
    "import random\n",
    "import math\n",
    "import sys"
   ]
  },
  {
   "cell_type": "code",
   "execution_count": 4,
   "metadata": {},
   "outputs": [],
   "source": [
    "rows = 'ABCDEFGHI'\n",
    "cols = '123456789'\n",
    "\n",
    "def cross(a,b):\n",
    "    return [s+t for s in a for t in b]"
   ]
  },
  {
   "cell_type": "code",
   "execution_count": 5,
   "metadata": {},
   "outputs": [
    {
     "name": "stdout",
     "output_type": "stream",
     "text": [
      "['A1', 'A2', 'A3', 'A4', 'A5', 'A6', 'A7', 'A8', 'A9', 'B1', 'B2', 'B3', 'B4', 'B5', 'B6', 'B7', 'B8', 'B9', 'C1', 'C2', 'C3', 'C4', 'C5', 'C6', 'C7', 'C8', 'C9', 'D1', 'D2', 'D3', 'D4', 'D5', 'D6', 'D7', 'D8', 'D9', 'E1', 'E2', 'E3', 'E4', 'E5', 'E6', 'E7', 'E8', 'E9', 'F1', 'F2', 'F3', 'F4', 'F5', 'F6', 'F7', 'F8', 'F9', 'G1', 'G2', 'G3', 'G4', 'G5', 'G6', 'G7', 'G8', 'G9', 'H1', 'H2', 'H3', 'H4', 'H5', 'H6', 'H7', 'H8', 'H9', 'I1', 'I2', 'I3', 'I4', 'I5', 'I6', 'I7', 'I8', 'I9']\n"
     ]
    }
   ],
   "source": [
    "boxes = cross(rows,cols)\n",
    "print(boxes)"
   ]
  },
  {
   "cell_type": "code",
   "execution_count": 12,
   "metadata": {},
   "outputs": [],
   "source": [
    "row_units = [cross(r,cols) for r in rows]\n",
    "column_units = [cross(rows,c) for c in cols]\n",
    "square_units = [cross(rs,cs) for rs in ('ABC','DEF','GHI') for cs in('123','456','789')]\n",
    "unitlist = row_units+column_units+square_units\n",
    "units = dict((s, [u for u in unitlist if s in u]) for s in boxes)\n",
    "peers = dict((s, set(sum(units[s],[]))-set([s])) for s in boxes)"
   ]
  },
  {
   "cell_type": "code",
   "execution_count": 14,
   "metadata": {},
   "outputs": [],
   "source": [
    "def display(values):\n",
    "    width = 1+max(len(values[s]) for s in boxes)\n",
    "    line='+'.join(['-'*(width*3)]*3)\n",
    "    for r in rows:\n",
    "        print(''.join(values[r+c].center(width)+('|' if c in '36' else '') for c in cols))\n",
    "        if r in 'CF': print(line)\n",
    "    return"
   ]
  },
  {
   "cell_type": "code",
   "execution_count": 15,
   "metadata": {},
   "outputs": [],
   "source": [
    "puzzle1='3..8.1..22.1.3.6.4...2.4...8.9...1.6.6.....5.7.2...4.9...5.9...9.4.8.7.56..1.7..3'"
   ]
  },
  {
   "cell_type": "code",
   "execution_count": 16,
   "metadata": {},
   "outputs": [],
   "source": [
    "def grid_values(grid):\n",
    "    values = []\n",
    "    all_digits = '123456789'\n",
    "    for c in grid:\n",
    "        if c == '.':\n",
    "            values.append(all_digits)\n",
    "        elif c in all_digits:\n",
    "            values.append(c)\n",
    "    assert len(values) == 81\n",
    "    boxes = cross(rows, cols)\n",
    "    return dict(zip(boxes, values))\n"
   ]
  },
  {
   "cell_type": "code",
   "execution_count": 18,
   "metadata": {},
   "outputs": [],
   "source": [
    "puzzle1_dict=grid_values(puzzle1)"
   ]
  },
  {
   "cell_type": "code",
   "execution_count": 19,
   "metadata": {},
   "outputs": [
    {
     "name": "stdout",
     "output_type": "stream",
     "text": [
      "{'A1': '3', 'A2': '123456789', 'A3': '123456789', 'A4': '8', 'A5': '123456789', 'A6': '1', 'A7': '123456789', 'A8': '123456789', 'A9': '2', 'B1': '2', 'B2': '123456789', 'B3': '1', 'B4': '123456789', 'B5': '3', 'B6': '123456789', 'B7': '6', 'B8': '123456789', 'B9': '4', 'C1': '123456789', 'C2': '123456789', 'C3': '123456789', 'C4': '2', 'C5': '123456789', 'C6': '4', 'C7': '123456789', 'C8': '123456789', 'C9': '123456789', 'D1': '8', 'D2': '123456789', 'D3': '9', 'D4': '123456789', 'D5': '123456789', 'D6': '123456789', 'D7': '1', 'D8': '123456789', 'D9': '6', 'E1': '123456789', 'E2': '6', 'E3': '123456789', 'E4': '123456789', 'E5': '123456789', 'E6': '123456789', 'E7': '123456789', 'E8': '5', 'E9': '123456789', 'F1': '7', 'F2': '123456789', 'F3': '2', 'F4': '123456789', 'F5': '123456789', 'F6': '123456789', 'F7': '4', 'F8': '123456789', 'F9': '9', 'G1': '123456789', 'G2': '123456789', 'G3': '123456789', 'G4': '5', 'G5': '123456789', 'G6': '9', 'G7': '123456789', 'G8': '123456789', 'G9': '123456789', 'H1': '9', 'H2': '123456789', 'H3': '4', 'H4': '123456789', 'H5': '8', 'H6': '123456789', 'H7': '7', 'H8': '123456789', 'H9': '5', 'I1': '6', 'I2': '123456789', 'I3': '123456789', 'I4': '1', 'I5': '123456789', 'I6': '7', 'I7': '123456789', 'I8': '123456789', 'I9': '3'}\n"
     ]
    }
   ],
   "source": [
    "print(puzzle1_dict)"
   ]
  },
  {
   "cell_type": "code",
   "execution_count": 20,
   "metadata": {},
   "outputs": [
    {
     "name": "stdout",
     "output_type": "stream",
     "text": [
      "    3     123456789 123456789 |    8     123456789     1     |123456789 123456789     2     \n",
      "    2     123456789     1     |123456789     3     123456789 |    6     123456789     4     \n",
      "123456789 123456789 123456789 |    2     123456789     4     |123456789 123456789 123456789 \n",
      "------------------------------+------------------------------+------------------------------\n",
      "    8     123456789     9     |123456789 123456789 123456789 |    1     123456789     6     \n",
      "123456789     6     123456789 |123456789 123456789 123456789 |123456789     5     123456789 \n",
      "    7     123456789     2     |123456789 123456789 123456789 |    4     123456789     9     \n",
      "------------------------------+------------------------------+------------------------------\n",
      "123456789 123456789 123456789 |    5     123456789     9     |123456789 123456789 123456789 \n",
      "    9     123456789     4     |123456789     8     123456789 |    7     123456789     5     \n",
      "    6     123456789 123456789 |    1     123456789     7     |123456789 123456789     3     \n"
     ]
    }
   ],
   "source": [
    "display(puzzle1_dict)"
   ]
  },
  {
   "cell_type": "code",
   "execution_count": 21,
   "metadata": {},
   "outputs": [],
   "source": [
    "def grid_values_improved(grid):\n",
    "    values = []\n",
    "    all_digits = '123456789'\n",
    "    for c in grid:\n",
    "        if c == '.':\n",
    "            values.append(all_digits)\n",
    "        elif c in all_digits:\n",
    "            values.append(c)\n",
    "    assert len(values) == 81\n",
    "    boxes = cross(rows, cols)\n",
    "    return dict(zip(boxes, values))"
   ]
  },
  {
   "cell_type": "code",
   "execution_count": 23,
   "metadata": {},
   "outputs": [],
   "source": [
    "puzzle1_dict_improved=grid_values_improved(puzzle1)"
   ]
  },
  {
   "cell_type": "code",
   "execution_count": 24,
   "metadata": {},
   "outputs": [
    {
     "name": "stdout",
     "output_type": "stream",
     "text": [
      "{'A1': '3', 'A2': '123456789', 'A3': '123456789', 'A4': '8', 'A5': '123456789', 'A6': '1', 'A7': '123456789', 'A8': '123456789', 'A9': '2', 'B1': '2', 'B2': '123456789', 'B3': '1', 'B4': '123456789', 'B5': '3', 'B6': '123456789', 'B7': '6', 'B8': '123456789', 'B9': '4', 'C1': '123456789', 'C2': '123456789', 'C3': '123456789', 'C4': '2', 'C5': '123456789', 'C6': '4', 'C7': '123456789', 'C8': '123456789', 'C9': '123456789', 'D1': '8', 'D2': '123456789', 'D3': '9', 'D4': '123456789', 'D5': '123456789', 'D6': '123456789', 'D7': '1', 'D8': '123456789', 'D9': '6', 'E1': '123456789', 'E2': '6', 'E3': '123456789', 'E4': '123456789', 'E5': '123456789', 'E6': '123456789', 'E7': '123456789', 'E8': '5', 'E9': '123456789', 'F1': '7', 'F2': '123456789', 'F3': '2', 'F4': '123456789', 'F5': '123456789', 'F6': '123456789', 'F7': '4', 'F8': '123456789', 'F9': '9', 'G1': '123456789', 'G2': '123456789', 'G3': '123456789', 'G4': '5', 'G5': '123456789', 'G6': '9', 'G7': '123456789', 'G8': '123456789', 'G9': '123456789', 'H1': '9', 'H2': '123456789', 'H3': '4', 'H4': '123456789', 'H5': '8', 'H6': '123456789', 'H7': '7', 'H8': '123456789', 'H9': '5', 'I1': '6', 'I2': '123456789', 'I3': '123456789', 'I4': '1', 'I5': '123456789', 'I6': '7', 'I7': '123456789', 'I8': '123456789', 'I9': '3'}\n"
     ]
    }
   ],
   "source": [
    "print(puzzle1_dict_improved)"
   ]
  },
  {
   "cell_type": "code",
   "execution_count": null,
   "metadata": {},
   "outputs": [],
   "source": []
  }
 ],
 "metadata": {
  "kernelspec": {
   "display_name": "Python 3",
   "language": "python",
   "name": "python3"
  },
  "language_info": {
   "codemirror_mode": {
    "name": "ipython",
    "version": 3
   },
   "file_extension": ".py",
   "mimetype": "text/x-python",
   "name": "python",
   "nbconvert_exporter": "python",
   "pygments_lexer": "ipython3",
   "version": "3.8.5"
  }
 },
 "nbformat": 4,
 "nbformat_minor": 4
}
