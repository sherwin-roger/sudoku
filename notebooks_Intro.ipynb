{
  "metadata": {
    "kernelspec": {
      "display_name": "Pyolite",
      "language": "python",
      "name": "python"
    },
    "language_info": {
      "codemirror_mode": {
        "name": "python",
        "version": 3
      },
      "file_extension": ".py",
      "mimetype": "text/x-python",
      "name": "python",
      "nbconvert_exporter": "python",
      "pygments_lexer": "ipython3",
      "version": "3.8"
    }
  },
  "nbformat_minor": 5,
  "nbformat": 4,
  "cells": [
    {
      "cell_type": "code",
      "source": "import math\nimport random",
      "metadata": {
        "trusted": true
      },
      "execution_count": 1,
      "outputs": [],
      "id": "73568a08-9109-4fe5-90cb-79006dd9285d"
    },
    {
      "cell_type": "code",
      "source": "import matplotlib.pyplot as plt\nimport random\nimport math\nimport sys\nrows='ABCDEFGHI'\ncols='123456789'\ndef cross(a, b):\n    return (s+t for s in a for t in b)\nboxes= cross(rows, cols)\nrow_units=[cross(r,cols)for r in rows]\ncolumn_units=[cross(rows,c)for c in cols]\nsquare_units=[cross(rs,cs)for rs in ('ABC','DEF','GHI') for cs in ('123''456','789')]\nunit_list=row_units+column_units+square_units\nunits=dict((s ,[u for u in unit_list if s in u])for s in boxes)\npeers=dict((s,set(sum(units[s],[]))-set([s])) for s in boxes)\ndef display(values):\n    width=1+max(len(values[s])for s in boxes)\n    line = '+'.join(['-'*(width*3)]*3)\n    for r in rows:\n        print(''.join(values[r+c].center(width)+('|'if c in '36' else '')for c in cols))\n        if r in 'CF':print(line)\n    return",
      "metadata": {
        "trusted": true
      },
      "execution_count": 8,
      "outputs": [],
      "id": "a1b63f02-5004-44ed-a666-e68fe9aea534"
    },
    {
      "cell_type": "code",
      "source": "",
      "metadata": {},
      "execution_count": null,
      "outputs": [],
      "id": "b680d4bc-81ca-4934-b3d7-d42459e21a00"
    }
  ]
}